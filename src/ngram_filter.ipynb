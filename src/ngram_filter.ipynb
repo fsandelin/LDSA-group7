{
 "cells": [
  {
   "cell_type": "code",
   "execution_count": 1,
   "metadata": {},
   "outputs": [],
   "source": [
    "from pyspark.sql import SparkSession\n",
    "from pyspark.sql.functions import *\n",
    "from pyspark.sql.types import BooleanType\n",
    "spark = SparkSession.builder.appName(\"Ngram_filter\").master(\"spark://192.168.1.76:7077\").getOrCreate()\n",
    "sc = spark.sparkContext"
   ]
  },
  {
   "cell_type": "code",
   "execution_count": 2,
   "metadata": {},
   "outputs": [],
   "source": [
    "df = spark.read.csv(['../data/eng-gb-all/1/googlebooks-eng-gb-all-1gram-20090715-0.csv',\n",
    "'../data/eng-gb-all/1/googlebooks-eng-gb-all-1gram-20090715-1.csv',\n",
    "'../data/eng-gb-all/1/googlebooks-eng-gb-all-1gram-20090715-2.csv',\n",
    "'../data/eng-gb-all/1/googlebooks-eng-gb-all-1gram-20090715-3.csv',\n",
    "'../data/eng-gb-all/1/googlebooks-eng-gb-all-1gram-20090715-4.csv',\n",
    "'../data/eng-gb-all/1/googlebooks-eng-gb-all-1gram-20090715-5.csv',\n",
    "'../data/eng-gb-all/1/googlebooks-eng-gb-all-1gram-20090715-6.csv',\n",
    "'../data/eng-gb-all/1/googlebooks-eng-gb-all-1gram-20090715-7.csv',\n",
    "'../data/eng-gb-all/1/googlebooks-eng-gb-all-1gram-20090715-8.csv',\n",
    "'../data/eng-gb-all/1/googlebooks-eng-gb-all-1gram-20090715-9.csv'], sep=\"\\t\", header=False)"
   ]
  },
  {
   "cell_type": "code",
   "execution_count": 3,
   "metadata": {},
   "outputs": [],
   "source": [
    "df = df.withColumnRenamed('_c0', 'ngram')\n",
    "df = df.withColumnRenamed('_c1', 'year')\n",
    "df = df.withColumnRenamed('_c2', 'match_count')\n",
    "df = df.withColumnRenamed('_c3', 'page_count')\n",
    "df = df.withColumnRenamed('_c4', 'volume_count')"
   ]
  },
  {
   "cell_type": "code",
   "execution_count": 4,
   "metadata": {},
   "outputs": [
    {
     "data": {
      "text/plain": [
       "188660459"
      ]
     },
     "execution_count": 4,
     "metadata": {},
     "output_type": "execute_result"
    }
   ],
   "source": [
    "df.count()"
   ]
  },
  {
   "cell_type": "code",
   "execution_count": 5,
   "metadata": {},
   "outputs": [],
   "source": [
    "def is_alpha(x):\n",
    "    return x.isalpha()\n",
    "\n",
    "is_alpha_udf = udf(is_alpha, BooleanType())"
   ]
  },
  {
   "cell_type": "code",
   "execution_count": 6,
   "metadata": {},
   "outputs": [],
   "source": [
    "df = df.filter(is_alpha_udf(df['ngram']))"
   ]
  },
  {
   "cell_type": "code",
   "execution_count": 7,
   "metadata": {},
   "outputs": [],
   "source": [
    "df = df.sort(['ngram', 'year'], ascending=True).cache()"
   ]
  },
  {
   "cell_type": "code",
   "execution_count": 8,
   "metadata": {},
   "outputs": [
    {
     "data": {
      "text/plain": [
       "169185297"
      ]
     },
     "execution_count": 8,
     "metadata": {},
     "output_type": "execute_result"
    }
   ],
   "source": [
    "df.count()"
   ]
  },
  {
   "cell_type": "code",
   "execution_count": 9,
   "metadata": {},
   "outputs": [],
   "source": [
    "df.coalesce(1).write.csv(\"eng-gb-all-only-letters\")"
   ]
  }
 ],
 "metadata": {
  "kernelspec": {
   "display_name": "Python 3",
   "language": "python",
   "name": "python3"
  },
  "language_info": {
   "codemirror_mode": {
    "name": "ipython",
    "version": 3
   },
   "file_extension": ".py",
   "mimetype": "text/x-python",
   "name": "python",
   "nbconvert_exporter": "python",
   "pygments_lexer": "ipython3",
   "version": "3.5.2"
  }
 },
 "nbformat": 4,
 "nbformat_minor": 2
}

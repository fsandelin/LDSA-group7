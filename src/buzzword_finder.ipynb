{
 "cells": [
  {
   "cell_type": "code",
   "execution_count": null,
   "metadata": {},
   "outputs": [],
   "source": [
    "from pyspark.sql import SparkSession\n",
    "from pyspark.sql.functions import *\n",
    "from pyspark.sql.types import BooleanType\n",
    "import math\n",
    "#from rateFunction import *\n",
    "spark = SparkSession.builder.appName(\"Ngram_buzzwords\").master(\"spark://192.168.1.76:7077\").getOrCreate()\n",
    "sc = spark.sparkContext"
   ]
  },
  {
   "cell_type": "code",
   "execution_count": null,
   "metadata": {},
   "outputs": [],
   "source": [
    "def sortBuzzWords(buzzwords, index_value):\n",
    "    return sorted(buzzwords, key=lambda x: x[index_value], reverse=True)"
   ]
  },
  {
   "cell_type": "code",
   "execution_count": null,
   "metadata": {},
   "outputs": [],
   "source": [
    "df = spark.read.csv('../../data/eng-gb-all-only-letters.csv', sep=\"\\t\", header=False)"
   ]
  },
  {
   "cell_type": "code",
   "execution_count": null,
   "metadata": {},
   "outputs": [],
   "source": [
    "df = df.withColumnRenamed('_c0', 'ngram')\n",
    "df = df.withColumnRenamed('_c1', 'year')\n",
    "df = df.withColumnRenamed('_c2', 'match_count')\n",
    "df = df.withColumnRenamed('_c3', 'page_count')\n",
    "df = df.withColumnRenamed('_c4', 'volume_count')"
   ]
  },
  {
   "cell_type": "code",
   "execution_count": null,
   "metadata": {},
   "outputs": [],
   "source": [
    "totalCountsDf = spark.read.csv('../../data/eng-gb-all/googlebooks-eng-gb-all-totalcounts-20090715.txt', sep=\"\\t\", header=False)"
   ]
  },
  {
   "cell_type": "code",
   "execution_count": null,
   "metadata": {},
   "outputs": [],
   "source": [
    "totalCountsDf = totalCountsDf.withColumnRenamed('_c0', 'year')\n",
    "totalCountsDf = totalCountsDf.withColumnRenamed('_c1', 'match_count')\n",
    "totalCountsDf = totalCountsDf.withColumnRenamed('_c2', 'page_count')\n",
    "totalCountsDf = totalCountsDf.withColumnRenamed('_c3', 'volume_count')"
   ]
  },
  {
   "cell_type": "code",
   "execution_count": null,
   "metadata": {},
   "outputs": [],
   "source": [
    "totalCounts = sc.broadcast(totalCountsDf.collect())"
   ]
  },
  {
   "cell_type": "code",
   "execution_count": null,
   "metadata": {},
   "outputs": [],
   "source": [
    "totalCountsRDD = totalCountsDf.rdd.map(list)"
   ]
  },
  {
   "cell_type": "code",
   "execution_count": null,
   "metadata": {},
   "outputs": [],
   "source": [
    "totalCounts = sc.broadcast(dict(totalCountsRDD.map(lambda x: (x[0], (x[1],x[2],x[3]))).collect()))"
   ]
  },
  {
   "cell_type": "code",
   "execution_count": null,
   "metadata": {},
   "outputs": [],
   "source": [
    "totalCounts.value[\"1944\"]"
   ]
  },
  {
   "cell_type": "code",
   "execution_count": null,
   "metadata": {},
   "outputs": [],
   "source": [
    "totalCounts.value"
   ]
  },
  {
   "cell_type": "code",
   "execution_count": null,
   "metadata": {},
   "outputs": [],
   "source": [
    "#df.count()"
   ]
  },
  {
   "cell_type": "code",
   "execution_count": null,
   "metadata": {},
   "outputs": [],
   "source": [
    "rdd = df.rdd.map(list)"
   ]
  },
  {
   "cell_type": "code",
   "execution_count": null,
   "metadata": {},
   "outputs": [],
   "source": [
    "def splitAndMakeNgramKey(row):\n",
    "    elements = row[0].split(\",\")\n",
    "    return(elements[0], (elements[1:len(elements)]))\n",
    "\n",
    "rdd = rdd.map(splitAndMakeNgramKey)"
   ]
  },
  {
   "cell_type": "code",
   "execution_count": null,
   "metadata": {},
   "outputs": [],
   "source": [
    "#rdd.take(10)"
   ]
  },
  {
   "cell_type": "code",
   "execution_count": null,
   "metadata": {},
   "outputs": [],
   "source": [
    "#rdd2 = sc.parallelize(rdd.take(1000000))"
   ]
  },
  {
   "cell_type": "code",
   "execution_count": null,
   "metadata": {},
   "outputs": [],
   "source": [
    "def groupData(a,b):\n",
    "    if isinstance(a[0], (list,)):\n",
    "        return a+[b]\n",
    "    else:\n",
    "        return [a]+[b]\n",
    "\n",
    "rdd2 = rdd.reduceByKey(groupData)"
   ]
  },
  {
   "cell_type": "code",
   "execution_count": null,
   "metadata": {},
   "outputs": [],
   "source": [
    "def yearRate(word):\n",
    "    if len(word) == 0:\n",
    "        return [('0',0,0.0,0,0,0.0)]\n",
    "    \n",
    "    if len(word) == 1:\n",
    "        return [(word[0][0], 0, 0.0,0,0,0.0)]\n",
    "    \n",
    "    wordArray=[]\n",
    "    for i in range(len(word)-1):\n",
    "        try:\n",
    "            yearPair = str(word[i][0])+\"-\"+str(word[i+1][0])\n",
    "            diff = int(word[i+1][1])-int(word[i][1])\n",
    "            diffProcent = (float(word[i+1][1])/float(word[i][1]))*100\n",
    "            ratio=diffProcent/100\n",
    "            buzzWordValue = (float(diff)/math.sqrt(float(totalCounts.value[word[i+1][0]][0])))*ratio\n",
    "            #buzzWordValue = diff*diffProcent\n",
    "            wordArray.append((yearPair,diff,diffProcent,int(word[i][1]),int(word[i+1][1]),buzzWordValue))\n",
    "        except:\n",
    "            return [('0',0,0.0,0,0,0.0)]\n",
    "    return wordArray"
   ]
  },
  {
   "cell_type": "code",
   "execution_count": null,
   "metadata": {},
   "outputs": [],
   "source": [
    "def yearRateThresh(word,t):\n",
    "    if len(word) == 0:\n",
    "        return [('0',0,0.0,0,0,0.0)]\n",
    "    \n",
    "    if len(word) == 1:\n",
    "        return [(word[0][0], 0, 0.0,0,0,0.0)]\n",
    "    \n",
    "    wordArray=[]\n",
    "    for i in range(len(word)-1):\n",
    "        try:\n",
    "            if int(word[i][0])>t:\n",
    "                yearPair = str(word[i][0])+\"-\"+str(word[i+1][0])\n",
    "                diff = int(word[i+1][1])-int(word[i][1])\n",
    "                diffProcent = (float(word[i+1][1])/float(word[i][1]))*100\n",
    "                ratio=diffProcent/100\n",
    "                buzzWordValue = (float(diff)/math.sqrt(float(totalCounts.value[word[i+1][0]][0])))*ratio\n",
    "            #buzzWordValue = diff*diffProcent\n",
    "                wordArray.append((yearPair,diff,diffProcent,int(word[i][1]),int(word[i+1][1]),buzzWordValue))\n",
    "            else: \n",
    "                wordArray.append('0',0,0.0,0,0,0.0)\n",
    "        except:\n",
    "            return [('0',0,0.0,0,0,0.0)]\n",
    "    return wordArray"
   ]
  },
  {
   "cell_type": "code",
   "execution_count": null,
   "metadata": {},
   "outputs": [],
   "source": [
    "rdd3 = rdd2.map(lambda row: (row[0], yearRate(row[1])))"
   ]
  },
  {
   "cell_type": "code",
   "execution_count": null,
   "metadata": {},
   "outputs": [],
   "source": [
    "rdd4 = rdd2.map(lambda row: (row[0], yearRateThresh(row[1],1980)))"
   ]
  },
  {
   "cell_type": "code",
   "execution_count": null,
   "metadata": {},
   "outputs": [],
   "source": [
    "#rdd_count = rdd3.map(lambda row: (row[0], sortBuzzWords(row[1], 1)))"
   ]
  },
  {
   "cell_type": "code",
   "execution_count": null,
   "metadata": {},
   "outputs": [],
   "source": [
    "rdd_percent = rdd3.map(lambda row: (row[0], sortBuzzWords(row[1], 2)))"
   ]
  },
  {
   "cell_type": "code",
   "execution_count": null,
   "metadata": {},
   "outputs": [],
   "source": [
    "#rdd_buzzword = rdd3.map(lambda row: (row[0], sortBuzzWords(row[1], 5)))\n",
    "rdd_buzzword = rdd4.map(lambda row: (row[0], sortBuzzWords(row[1], 5)))"
   ]
  },
  {
   "cell_type": "code",
   "execution_count": null,
   "metadata": {},
   "outputs": [],
   "source": [
    "#rdd_count2 = rdd_count.sortBy(lambda row: row[1][0][1], ascending=False)"
   ]
  },
  {
   "cell_type": "code",
   "execution_count": null,
   "metadata": {},
   "outputs": [],
   "source": [
    "rdd_percent2 = rdd_percent.sortBy(lambda row: row[1][0][2], ascending=False)"
   ]
  },
  {
   "cell_type": "code",
   "execution_count": null,
   "metadata": {},
   "outputs": [],
   "source": [
    "rdd_buzzword2 = rdd_buzzword.sortBy(lambda row: row[1][0][5], ascending=False)"
   ]
  },
  {
   "cell_type": "code",
   "execution_count": null,
   "metadata": {},
   "outputs": [],
   "source": [
    "#rdd_count2.take(10)"
   ]
  },
  {
   "cell_type": "code",
   "execution_count": null,
   "metadata": {
    "scrolled": false
   },
   "outputs": [],
   "source": [
    "rdd_percent2.take(10)"
   ]
  },
  {
   "cell_type": "code",
   "execution_count": null,
   "metadata": {},
   "outputs": [],
   "source": [
    "rdd_buzzword2.take(10)"
   ]
  },
  {
   "cell_type": "code",
   "execution_count": null,
   "metadata": {},
   "outputs": [],
   "source": [
    "#rdd3.coalesce(1).saveAsTextFile(\"Words-with-year-list.txt\")"
   ]
  }
 ],
 "metadata": {
  "kernelspec": {
   "display_name": "Python 3",
   "language": "python",
   "name": "python3"
  },
  "language_info": {
   "codemirror_mode": {
    "name": "ipython",
    "version": 3
   },
   "file_extension": ".py",
   "mimetype": "text/x-python",
   "name": "python",
   "nbconvert_exporter": "python",
   "pygments_lexer": "ipython3",
   "version": "3.5.2"
  }
 },
 "nbformat": 4,
 "nbformat_minor": 2
}

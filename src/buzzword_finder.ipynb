{
 "cells": [
  {
   "cell_type": "code",
   "execution_count": 1,
   "metadata": {},
   "outputs": [],
   "source": [
    "from pyspark.sql import SparkSession\n",
    "from pyspark.sql.functions import *\n",
    "from pyspark.sql.types import BooleanType\n",
    "#from rateFunction import *\n",
    "spark = SparkSession.builder.appName(\"Ngram_buzzwords\").master(\"spark://192.168.1.76:7077\").getOrCreate()\n",
    "sc = spark.sparkContext"
   ]
  },
  {
   "cell_type": "code",
   "execution_count": 2,
   "metadata": {},
   "outputs": [],
   "source": [
    "def yearRate(word):\n",
    "    if len(word) == 0:\n",
    "        return [('0',0,0.0)]\n",
    "    \n",
    "    if len(word) == 1:\n",
    "        return [(word[0][0], 0, 0.0)]\n",
    "    \n",
    "    wordArray=[]\n",
    "    for i in range(len(word)-1):\n",
    "        #try:\n",
    "        yearPair = str(word[i][0])+\"-\"+str(word[i+1][0])\n",
    "        diff = int(word[i+1][1])-int(word[i][1])\n",
    "        diffProcent = (float(word[i+1][1])/float(word[i][1]))*100    \n",
    "        wordArray.append((yearPair,diff,diffProcent))\n",
    "        #except:\n",
    "            #return [('0',0,0.0)]\n",
    "    return wordArray\n",
    "\n",
    "def sortBuzzWords(buzzwords, index_value):\n",
    "    return sorted(buzzwords, key=lambda x: x[index_value], reverse=True)"
   ]
  },
  {
   "cell_type": "code",
   "execution_count": 3,
   "metadata": {},
   "outputs": [],
   "source": [
    "df = spark.read.csv('../../data/eng-gb-all-only-letters.csv', sep=\"\\t\", header=False)"
   ]
  },
  {
   "cell_type": "code",
   "execution_count": 4,
   "metadata": {},
   "outputs": [],
   "source": [
    "df = df.withColumnRenamed('_c0', 'ngram')\n",
    "df = df.withColumnRenamed('_c1', 'year')\n",
    "df = df.withColumnRenamed('_c2', 'match_count')\n",
    "df = df.withColumnRenamed('_c3', 'page_count')\n",
    "df = df.withColumnRenamed('_c4', 'volume_count')"
   ]
  },
  {
   "cell_type": "code",
   "execution_count": 5,
   "metadata": {},
   "outputs": [],
   "source": [
    "#df.count()"
   ]
  },
  {
   "cell_type": "code",
   "execution_count": 6,
   "metadata": {},
   "outputs": [],
   "source": [
    "rdd = df.rdd.map(list)"
   ]
  },
  {
   "cell_type": "code",
   "execution_count": 7,
   "metadata": {},
   "outputs": [],
   "source": [
    "def splitAndMakeNgramKey(row):\n",
    "    elements = row[0].split(\",\")\n",
    "    return(elements[0], elements[1:len(elements)])\n",
    "\n",
    "rdd = rdd.map(splitAndMakeNgramKey)"
   ]
  },
  {
   "cell_type": "code",
   "execution_count": 8,
   "metadata": {},
   "outputs": [],
   "source": [
    "#rdd.take(10)"
   ]
  },
  {
   "cell_type": "code",
   "execution_count": 9,
   "metadata": {},
   "outputs": [],
   "source": [
    "#rdd2 = sc.parallelize(rdd.take(1000000))"
   ]
  },
  {
   "cell_type": "code",
   "execution_count": 10,
   "metadata": {},
   "outputs": [],
   "source": [
    "def groupData(a,b):\n",
    "    if isinstance(a[0], (list,)):\n",
    "        return a+[b]\n",
    "    else:\n",
    "        return [a]+[b]\n",
    "\n",
    "rdd2 = rdd.reduceByKey(groupData)"
   ]
  },
  {
   "cell_type": "code",
   "execution_count": null,
   "metadata": {},
   "outputs": [],
   "source": [
    "rdd2.take(100)"
   ]
  },
  {
   "cell_type": "code",
   "execution_count": 11,
   "metadata": {},
   "outputs": [],
   "source": [
    "rdd3 = rdd2.map(lambda row: (row[0], yearRate(row[1])))"
   ]
  },
  {
   "cell_type": "code",
   "execution_count": 12,
   "metadata": {},
   "outputs": [],
   "source": [
    "rdd_count = rdd3.map(lambda row: (row[0], sortBuzzWords(row[1], 1)))"
   ]
  },
  {
   "cell_type": "code",
   "execution_count": 13,
   "metadata": {},
   "outputs": [],
   "source": [
    "rdd_percent = rdd3.map(lambda row: (row[0], sortBuzzWords(row[1], 2)))"
   ]
  },
  {
   "cell_type": "code",
   "execution_count": null,
   "metadata": {},
   "outputs": [],
   "source": [
    "rdd_count.take(10)"
   ]
  },
  {
   "cell_type": "code",
   "execution_count": null,
   "metadata": {},
   "outputs": [],
   "source": [
    "rdd_percent.take(10)"
   ]
  },
  {
   "cell_type": "code",
   "execution_count": null,
   "metadata": {},
   "outputs": [],
   "source": [
    "#thresholdProcent = 1000\n",
    "#rdd_filter = rdd3.filter(lambda x:x[] )\n",
    "def threshHold:\n",
    "    "
   ]
  },
  {
   "cell_type": "code",
   "execution_count": null,
   "metadata": {},
   "outputs": [],
   "source": [
    "rdd_count2 = rdd_count.sortBy(lambda row: row[1][0][1], ascending=False)"
   ]
  },
  {
   "cell_type": "code",
   "execution_count": null,
   "metadata": {},
   "outputs": [],
   "source": [
    "rdd_percent2 = rdd_percent.sortBy(lambda row: row[1][0][2], ascending=False)"
   ]
  },
  {
   "cell_type": "code",
   "execution_count": null,
   "metadata": {},
   "outputs": [],
   "source": [
    "rdd_count2.take(10)"
   ]
  },
  {
   "cell_type": "code",
   "execution_count": null,
   "metadata": {},
   "outputs": [],
   "source": [
    "rdd_percent2.take(10)"
   ]
  },
  {
   "cell_type": "code",
   "execution_count": null,
   "metadata": {},
   "outputs": [],
   "source": []
  },
  {
   "cell_type": "code",
   "execution_count": null,
   "metadata": {},
   "outputs": [],
   "source": []
  },
  {
   "cell_type": "code",
   "execution_count": null,
   "metadata": {},
   "outputs": [],
   "source": [
    "#rdd3.coalesce(1).saveAsTextFile(\"Words-with-year-list.txt\")"
   ]
  }
 ],
 "metadata": {
  "kernelspec": {
   "display_name": "Python 3",
   "language": "python",
   "name": "python3"
  },
  "language_info": {
   "codemirror_mode": {
    "name": "ipython",
    "version": 3
   },
   "file_extension": ".py",
   "mimetype": "text/x-python",
   "name": "python",
   "nbconvert_exporter": "python",
   "pygments_lexer": "ipython3",
   "version": "3.5.2"
  }
 },
 "nbformat": 4,
 "nbformat_minor": 2
}
